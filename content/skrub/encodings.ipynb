{
 "cells": [
  {
   "cell_type": "markdown",
   "metadata": {},
   "source": [
    "# Encoding: from a dataframe to a numerical matrix for machine learning\n",
    "\n",
    "This example demonstrates how to transform a somewhat complicated dataframe to a matrix well suited for machine-learning. We study the case of predicting wages using the employee salaries dataset."
   ]
  },
  {
   "cell_type": "markdown",
   "metadata": {},
   "source": [
    "## A simple prediction pipeline\n",
    "\n",
    "Let’s first retrieve the dataset:"
   ]
  },
  {
   "cell_type": "code",
   "execution_count": 2,
   "metadata": {},
   "outputs": [],
   "source": [
    "from skrub.datasets import fetch_employee_salaries\n",
    "\n",
    "dataset = fetch_employee_salaries()"
   ]
  },
  {
   "cell_type": "markdown",
   "metadata": {},
   "source": [
    "We denote X, employees characteristics (our input data), and y, the annual salary (our target column):"
   ]
  },
  {
   "cell_type": "code",
   "execution_count": 4,
   "metadata": {},
   "outputs": [
    {
     "data": {
      "text/html": [
       "<div>\n",
       "<style scoped>\n",
       "    .dataframe tbody tr th:only-of-type {\n",
       "        vertical-align: middle;\n",
       "    }\n",
       "\n",
       "    .dataframe tbody tr th {\n",
       "        vertical-align: top;\n",
       "    }\n",
       "\n",
       "    .dataframe thead th {\n",
       "        text-align: right;\n",
       "    }\n",
       "</style>\n",
       "<table border=\"1\" class=\"dataframe\">\n",
       "  <thead>\n",
       "    <tr style=\"text-align: right;\">\n",
       "      <th></th>\n",
       "      <th>gender</th>\n",
       "      <th>department</th>\n",
       "      <th>department_name</th>\n",
       "      <th>division</th>\n",
       "      <th>assignment_category</th>\n",
       "      <th>employee_position_title</th>\n",
       "      <th>date_first_hired</th>\n",
       "      <th>year_first_hired</th>\n",
       "    </tr>\n",
       "  </thead>\n",
       "  <tbody>\n",
       "    <tr>\n",
       "      <th>0</th>\n",
       "      <td>F</td>\n",
       "      <td>POL</td>\n",
       "      <td>Department of Police</td>\n",
       "      <td>MSB Information Mgmt and Tech Division Records...</td>\n",
       "      <td>Fulltime-Regular</td>\n",
       "      <td>Office Services Coordinator</td>\n",
       "      <td>09/22/1986</td>\n",
       "      <td>1986</td>\n",
       "    </tr>\n",
       "    <tr>\n",
       "      <th>1</th>\n",
       "      <td>M</td>\n",
       "      <td>POL</td>\n",
       "      <td>Department of Police</td>\n",
       "      <td>ISB Major Crimes Division Fugitive Section</td>\n",
       "      <td>Fulltime-Regular</td>\n",
       "      <td>Master Police Officer</td>\n",
       "      <td>09/12/1988</td>\n",
       "      <td>1988</td>\n",
       "    </tr>\n",
       "    <tr>\n",
       "      <th>2</th>\n",
       "      <td>F</td>\n",
       "      <td>HHS</td>\n",
       "      <td>Department of Health and Human Services</td>\n",
       "      <td>Adult Protective and Case Management Services</td>\n",
       "      <td>Fulltime-Regular</td>\n",
       "      <td>Social Worker IV</td>\n",
       "      <td>11/19/1989</td>\n",
       "      <td>1989</td>\n",
       "    </tr>\n",
       "    <tr>\n",
       "      <th>3</th>\n",
       "      <td>M</td>\n",
       "      <td>COR</td>\n",
       "      <td>Correction and Rehabilitation</td>\n",
       "      <td>PRRS Facility and Security</td>\n",
       "      <td>Fulltime-Regular</td>\n",
       "      <td>Resident Supervisor II</td>\n",
       "      <td>05/05/2014</td>\n",
       "      <td>2014</td>\n",
       "    </tr>\n",
       "    <tr>\n",
       "      <th>4</th>\n",
       "      <td>M</td>\n",
       "      <td>HCA</td>\n",
       "      <td>Department of Housing and Community Affairs</td>\n",
       "      <td>Affordable Housing Programs</td>\n",
       "      <td>Fulltime-Regular</td>\n",
       "      <td>Planning Specialist III</td>\n",
       "      <td>03/05/2007</td>\n",
       "      <td>2007</td>\n",
       "    </tr>\n",
       "    <tr>\n",
       "      <th>...</th>\n",
       "      <td>...</td>\n",
       "      <td>...</td>\n",
       "      <td>...</td>\n",
       "      <td>...</td>\n",
       "      <td>...</td>\n",
       "      <td>...</td>\n",
       "      <td>...</td>\n",
       "      <td>...</td>\n",
       "    </tr>\n",
       "    <tr>\n",
       "      <th>9223</th>\n",
       "      <td>F</td>\n",
       "      <td>HHS</td>\n",
       "      <td>Department of Health and Human Services</td>\n",
       "      <td>School Based Health Centers</td>\n",
       "      <td>Fulltime-Regular</td>\n",
       "      <td>Community Health Nurse II</td>\n",
       "      <td>11/03/2015</td>\n",
       "      <td>2015</td>\n",
       "    </tr>\n",
       "    <tr>\n",
       "      <th>9224</th>\n",
       "      <td>F</td>\n",
       "      <td>FRS</td>\n",
       "      <td>Fire and Rescue Services</td>\n",
       "      <td>Human Resources Division</td>\n",
       "      <td>Fulltime-Regular</td>\n",
       "      <td>Fire/Rescue Division Chief</td>\n",
       "      <td>11/28/1988</td>\n",
       "      <td>1988</td>\n",
       "    </tr>\n",
       "    <tr>\n",
       "      <th>9225</th>\n",
       "      <td>M</td>\n",
       "      <td>HHS</td>\n",
       "      <td>Department of Health and Human Services</td>\n",
       "      <td>Child and Adolescent Mental Health Clinic Serv...</td>\n",
       "      <td>Parttime-Regular</td>\n",
       "      <td>Medical Doctor IV - Psychiatrist</td>\n",
       "      <td>04/30/2001</td>\n",
       "      <td>2001</td>\n",
       "    </tr>\n",
       "    <tr>\n",
       "      <th>9226</th>\n",
       "      <td>M</td>\n",
       "      <td>CCL</td>\n",
       "      <td>County Council</td>\n",
       "      <td>Council Central Staff</td>\n",
       "      <td>Fulltime-Regular</td>\n",
       "      <td>Manager II</td>\n",
       "      <td>09/05/2006</td>\n",
       "      <td>2006</td>\n",
       "    </tr>\n",
       "    <tr>\n",
       "      <th>9227</th>\n",
       "      <td>M</td>\n",
       "      <td>DLC</td>\n",
       "      <td>Department of Liquor Control</td>\n",
       "      <td>Licensure, Regulation and Education</td>\n",
       "      <td>Fulltime-Regular</td>\n",
       "      <td>Alcohol/Tobacco Enforcement Specialist II</td>\n",
       "      <td>01/30/2012</td>\n",
       "      <td>2012</td>\n",
       "    </tr>\n",
       "  </tbody>\n",
       "</table>\n",
       "<p>9228 rows × 8 columns</p>\n",
       "</div>"
      ],
      "text/plain": [
       "     gender department                              department_name  \\\n",
       "0         F        POL                         Department of Police   \n",
       "1         M        POL                         Department of Police   \n",
       "2         F        HHS      Department of Health and Human Services   \n",
       "3         M        COR                Correction and Rehabilitation   \n",
       "4         M        HCA  Department of Housing and Community Affairs   \n",
       "...     ...        ...                                          ...   \n",
       "9223      F        HHS      Department of Health and Human Services   \n",
       "9224      F        FRS                     Fire and Rescue Services   \n",
       "9225      M        HHS      Department of Health and Human Services   \n",
       "9226      M        CCL                               County Council   \n",
       "9227      M        DLC                 Department of Liquor Control   \n",
       "\n",
       "                                               division assignment_category  \\\n",
       "0     MSB Information Mgmt and Tech Division Records...    Fulltime-Regular   \n",
       "1            ISB Major Crimes Division Fugitive Section    Fulltime-Regular   \n",
       "2         Adult Protective and Case Management Services    Fulltime-Regular   \n",
       "3                            PRRS Facility and Security    Fulltime-Regular   \n",
       "4                           Affordable Housing Programs    Fulltime-Regular   \n",
       "...                                                 ...                 ...   \n",
       "9223                        School Based Health Centers    Fulltime-Regular   \n",
       "9224                           Human Resources Division    Fulltime-Regular   \n",
       "9225  Child and Adolescent Mental Health Clinic Serv...    Parttime-Regular   \n",
       "9226                              Council Central Staff    Fulltime-Regular   \n",
       "9227                Licensure, Regulation and Education    Fulltime-Regular   \n",
       "\n",
       "                        employee_position_title date_first_hired  \\\n",
       "0                   Office Services Coordinator       09/22/1986   \n",
       "1                         Master Police Officer       09/12/1988   \n",
       "2                              Social Worker IV       11/19/1989   \n",
       "3                        Resident Supervisor II       05/05/2014   \n",
       "4                       Planning Specialist III       03/05/2007   \n",
       "...                                         ...              ...   \n",
       "9223                  Community Health Nurse II       11/03/2015   \n",
       "9224                 Fire/Rescue Division Chief       11/28/1988   \n",
       "9225           Medical Doctor IV - Psychiatrist       04/30/2001   \n",
       "9226                                 Manager II       09/05/2006   \n",
       "9227  Alcohol/Tobacco Enforcement Specialist II       01/30/2012   \n",
       "\n",
       "      year_first_hired  \n",
       "0                 1986  \n",
       "1                 1988  \n",
       "2                 1989  \n",
       "3                 2014  \n",
       "4                 2007  \n",
       "...                ...  \n",
       "9223              2015  \n",
       "9224              1988  \n",
       "9225              2001  \n",
       "9226              2006  \n",
       "9227              2012  \n",
       "\n",
       "[9228 rows x 8 columns]"
      ]
     },
     "execution_count": 4,
     "metadata": {},
     "output_type": "execute_result"
    }
   ],
   "source": [
    "X = dataset.X\n",
    "y = dataset.y\n",
    "\n",
    "X"
   ]
  },
  {
   "cell_type": "markdown",
   "metadata": {},
   "source": [
    "### We observe diverse columns in the dataset:\n",
    "   - binary (``'gender'``),\n",
    "   - numerical (``'employee_annual_salary'``),\n",
    "   - categorical (``'department'``, ``'department_name'``, ``'assignment_category'``),\n",
    "   - datetime (``'date_first_hired'``)\n",
    "   - dirty categorical (``'employee_position_title'``, ``'division'``).\n",
    "\n",
    "Using skrub's |TableVectorizer|, we can now already build a machine-learning pipeline and train it:"
   ]
  },
  {
   "cell_type": "code",
   "execution_count": 5,
   "metadata": {},
   "outputs": [
    {
     "data": {
      "text/html": [
       "<style>#sk-container-id-1 {color: black;}#sk-container-id-1 pre{padding: 0;}#sk-container-id-1 div.sk-toggleable {background-color: white;}#sk-container-id-1 label.sk-toggleable__label {cursor: pointer;display: block;width: 100%;margin-bottom: 0;padding: 0.3em;box-sizing: border-box;text-align: center;}#sk-container-id-1 label.sk-toggleable__label-arrow:before {content: \"▸\";float: left;margin-right: 0.25em;color: #696969;}#sk-container-id-1 label.sk-toggleable__label-arrow:hover:before {color: black;}#sk-container-id-1 div.sk-estimator:hover label.sk-toggleable__label-arrow:before {color: black;}#sk-container-id-1 div.sk-toggleable__content {max-height: 0;max-width: 0;overflow: hidden;text-align: left;background-color: #f0f8ff;}#sk-container-id-1 div.sk-toggleable__content pre {margin: 0.2em;color: black;border-radius: 0.25em;background-color: #f0f8ff;}#sk-container-id-1 input.sk-toggleable__control:checked~div.sk-toggleable__content {max-height: 200px;max-width: 100%;overflow: auto;}#sk-container-id-1 input.sk-toggleable__control:checked~label.sk-toggleable__label-arrow:before {content: \"▾\";}#sk-container-id-1 div.sk-estimator input.sk-toggleable__control:checked~label.sk-toggleable__label {background-color: #d4ebff;}#sk-container-id-1 div.sk-label input.sk-toggleable__control:checked~label.sk-toggleable__label {background-color: #d4ebff;}#sk-container-id-1 input.sk-hidden--visually {border: 0;clip: rect(1px 1px 1px 1px);clip: rect(1px, 1px, 1px, 1px);height: 1px;margin: -1px;overflow: hidden;padding: 0;position: absolute;width: 1px;}#sk-container-id-1 div.sk-estimator {font-family: monospace;background-color: #f0f8ff;border: 1px dotted black;border-radius: 0.25em;box-sizing: border-box;margin-bottom: 0.5em;}#sk-container-id-1 div.sk-estimator:hover {background-color: #d4ebff;}#sk-container-id-1 div.sk-parallel-item::after {content: \"\";width: 100%;border-bottom: 1px solid gray;flex-grow: 1;}#sk-container-id-1 div.sk-label:hover label.sk-toggleable__label {background-color: #d4ebff;}#sk-container-id-1 div.sk-serial::before {content: \"\";position: absolute;border-left: 1px solid gray;box-sizing: border-box;top: 0;bottom: 0;left: 50%;z-index: 0;}#sk-container-id-1 div.sk-serial {display: flex;flex-direction: column;align-items: center;background-color: white;padding-right: 0.2em;padding-left: 0.2em;position: relative;}#sk-container-id-1 div.sk-item {position: relative;z-index: 1;}#sk-container-id-1 div.sk-parallel {display: flex;align-items: stretch;justify-content: center;background-color: white;position: relative;}#sk-container-id-1 div.sk-item::before, #sk-container-id-1 div.sk-parallel-item::before {content: \"\";position: absolute;border-left: 1px solid gray;box-sizing: border-box;top: 0;bottom: 0;left: 50%;z-index: -1;}#sk-container-id-1 div.sk-parallel-item {display: flex;flex-direction: column;z-index: 1;position: relative;background-color: white;}#sk-container-id-1 div.sk-parallel-item:first-child::after {align-self: flex-end;width: 50%;}#sk-container-id-1 div.sk-parallel-item:last-child::after {align-self: flex-start;width: 50%;}#sk-container-id-1 div.sk-parallel-item:only-child::after {width: 0;}#sk-container-id-1 div.sk-dashed-wrapped {border: 1px dashed gray;margin: 0 0.4em 0.5em 0.4em;box-sizing: border-box;padding-bottom: 0.4em;background-color: white;}#sk-container-id-1 div.sk-label label {font-family: monospace;font-weight: bold;display: inline-block;line-height: 1.2em;}#sk-container-id-1 div.sk-label-container {text-align: center;}#sk-container-id-1 div.sk-container {/* jupyter's `normalize.less` sets `[hidden] { display: none; }` but bootstrap.min.css set `[hidden] { display: none !important; }` so we also need the `!important` here to be able to override the default hidden behavior on the sphinx rendered scikit-learn.org. See: https://github.com/scikit-learn/scikit-learn/issues/21755 */display: inline-block !important;position: relative;}#sk-container-id-1 div.sk-text-repr-fallback {display: none;}</style><div id=\"sk-container-id-1\" class=\"sk-top-container\"><div class=\"sk-text-repr-fallback\"><pre>Pipeline(steps=[(&#x27;tablevectorizer&#x27;, TableVectorizer()),\n",
       "                (&#x27;histgradientboostingregressor&#x27;,\n",
       "                 HistGradientBoostingRegressor())])</pre><b>In a Jupyter environment, please rerun this cell to show the HTML representation or trust the notebook. <br />On GitHub, the HTML representation is unable to render, please try loading this page with nbviewer.org.</b></div><div class=\"sk-container\" hidden><div class=\"sk-item sk-dashed-wrapped\"><div class=\"sk-label-container\"><div class=\"sk-label sk-toggleable\"><input class=\"sk-toggleable__control sk-hidden--visually\" id=\"sk-estimator-id-1\" type=\"checkbox\" ><label for=\"sk-estimator-id-1\" class=\"sk-toggleable__label sk-toggleable__label-arrow\">Pipeline</label><div class=\"sk-toggleable__content\"><pre>Pipeline(steps=[(&#x27;tablevectorizer&#x27;, TableVectorizer()),\n",
       "                (&#x27;histgradientboostingregressor&#x27;,\n",
       "                 HistGradientBoostingRegressor())])</pre></div></div></div><div class=\"sk-serial\"><div class=\"sk-item sk-dashed-wrapped\"><div class=\"sk-label-container\"><div class=\"sk-label sk-toggleable\"><input class=\"sk-toggleable__control sk-hidden--visually\" id=\"sk-estimator-id-2\" type=\"checkbox\" ><label for=\"sk-estimator-id-2\" class=\"sk-toggleable__label sk-toggleable__label-arrow\">tablevectorizer: TableVectorizer</label><div class=\"sk-toggleable__content\"><pre>TableVectorizer()</pre></div></div></div><div class=\"sk-parallel\"><div class=\"sk-parallel-item\"><div class=\"sk-item\"><div class=\"sk-label-container\"><div class=\"sk-label sk-toggleable\"><input class=\"sk-toggleable__control sk-hidden--visually\" id=\"sk-estimator-id-3\" type=\"checkbox\" ><label for=\"sk-estimator-id-3\" class=\"sk-toggleable__label sk-toggleable__label-arrow\">numeric</label><div class=\"sk-toggleable__content\"><pre>[&#x27;year_first_hired&#x27;]</pre></div></div></div><div class=\"sk-serial\"><div class=\"sk-item\"><div class=\"sk-estimator sk-toggleable\"><input class=\"sk-toggleable__control sk-hidden--visually\" id=\"sk-estimator-id-4\" type=\"checkbox\" ><label for=\"sk-estimator-id-4\" class=\"sk-toggleable__label sk-toggleable__label-arrow\">passthrough</label><div class=\"sk-toggleable__content\"><pre>passthrough</pre></div></div></div></div></div></div><div class=\"sk-parallel-item\"><div class=\"sk-item\"><div class=\"sk-label-container\"><div class=\"sk-label sk-toggleable\"><input class=\"sk-toggleable__control sk-hidden--visually\" id=\"sk-estimator-id-5\" type=\"checkbox\" ><label for=\"sk-estimator-id-5\" class=\"sk-toggleable__label sk-toggleable__label-arrow\">datetime</label><div class=\"sk-toggleable__content\"><pre>[&#x27;date_first_hired&#x27;]</pre></div></div></div><div class=\"sk-serial\"><div class=\"sk-item\"><div class=\"sk-estimator sk-toggleable\"><input class=\"sk-toggleable__control sk-hidden--visually\" id=\"sk-estimator-id-6\" type=\"checkbox\" ><label for=\"sk-estimator-id-6\" class=\"sk-toggleable__label sk-toggleable__label-arrow\">DatetimeEncoder</label><div class=\"sk-toggleable__content\"><pre>DatetimeEncoder()</pre></div></div></div></div></div></div><div class=\"sk-parallel-item\"><div class=\"sk-item\"><div class=\"sk-label-container\"><div class=\"sk-label sk-toggleable\"><input class=\"sk-toggleable__control sk-hidden--visually\" id=\"sk-estimator-id-7\" type=\"checkbox\" ><label for=\"sk-estimator-id-7\" class=\"sk-toggleable__label sk-toggleable__label-arrow\">low_card_cat</label><div class=\"sk-toggleable__content\"><pre>[&#x27;gender&#x27;, &#x27;department&#x27;, &#x27;department_name&#x27;, &#x27;assignment_category&#x27;]</pre></div></div></div><div class=\"sk-serial\"><div class=\"sk-item\"><div class=\"sk-estimator sk-toggleable\"><input class=\"sk-toggleable__control sk-hidden--visually\" id=\"sk-estimator-id-8\" type=\"checkbox\" ><label for=\"sk-estimator-id-8\" class=\"sk-toggleable__label sk-toggleable__label-arrow\">OneHotEncoder</label><div class=\"sk-toggleable__content\"><pre>OneHotEncoder(drop=&#x27;if_binary&#x27;, handle_unknown=&#x27;infrequent_if_exist&#x27;)</pre></div></div></div></div></div></div><div class=\"sk-parallel-item\"><div class=\"sk-item\"><div class=\"sk-label-container\"><div class=\"sk-label sk-toggleable\"><input class=\"sk-toggleable__control sk-hidden--visually\" id=\"sk-estimator-id-9\" type=\"checkbox\" ><label for=\"sk-estimator-id-9\" class=\"sk-toggleable__label sk-toggleable__label-arrow\">high_card_cat</label><div class=\"sk-toggleable__content\"><pre>[&#x27;division&#x27;, &#x27;employee_position_title&#x27;]</pre></div></div></div><div class=\"sk-serial\"><div class=\"sk-item\"><div class=\"sk-estimator sk-toggleable\"><input class=\"sk-toggleable__control sk-hidden--visually\" id=\"sk-estimator-id-10\" type=\"checkbox\" ><label for=\"sk-estimator-id-10\" class=\"sk-toggleable__label sk-toggleable__label-arrow\">GapEncoder</label><div class=\"sk-toggleable__content\"><pre>GapEncoder(n_components=30)</pre></div></div></div></div></div></div><div class=\"sk-parallel-item\"><div class=\"sk-item\"><div class=\"sk-label-container\"><div class=\"sk-label sk-toggleable\"><input class=\"sk-toggleable__control sk-hidden--visually\" id=\"sk-estimator-id-11\" type=\"checkbox\" ><label for=\"sk-estimator-id-11\" class=\"sk-toggleable__label sk-toggleable__label-arrow\">remainder</label><div class=\"sk-toggleable__content\"><pre>[]</pre></div></div></div><div class=\"sk-serial\"><div class=\"sk-item\"><div class=\"sk-estimator sk-toggleable\"><input class=\"sk-toggleable__control sk-hidden--visually\" id=\"sk-estimator-id-12\" type=\"checkbox\" ><label for=\"sk-estimator-id-12\" class=\"sk-toggleable__label sk-toggleable__label-arrow\">passthrough</label><div class=\"sk-toggleable__content\"><pre>passthrough</pre></div></div></div></div></div></div></div></div><div class=\"sk-item\"><div class=\"sk-estimator sk-toggleable\"><input class=\"sk-toggleable__control sk-hidden--visually\" id=\"sk-estimator-id-13\" type=\"checkbox\" ><label for=\"sk-estimator-id-13\" class=\"sk-toggleable__label sk-toggleable__label-arrow\">HistGradientBoostingRegressor</label><div class=\"sk-toggleable__content\"><pre>HistGradientBoostingRegressor()</pre></div></div></div></div></div></div></div>"
      ],
      "text/plain": [
       "Pipeline(steps=[('tablevectorizer', TableVectorizer()),\n",
       "                ('histgradientboostingregressor',\n",
       "                 HistGradientBoostingRegressor())])"
      ]
     },
     "execution_count": 5,
     "metadata": {},
     "output_type": "execute_result"
    }
   ],
   "source": [
    "from sklearn.ensemble import HistGradientBoostingRegressor\n",
    "from sklearn.pipeline import make_pipeline\n",
    "from skrub import TableVectorizer\n",
    "\n",
    "pipeline = make_pipeline(TableVectorizer(), HistGradientBoostingRegressor())\n",
    "pipeline.fit(X, y)"
   ]
  },
  {
   "cell_type": "markdown",
   "metadata": {},
   "source": [
    "What just happened here?\n",
    "\n",
    "We actually gave our dataframe as an input to the ``TableVectorizer`` and it returned an output useful for the scikit-learn model.\n",
    "\n",
    "Let's explore the internals of our encoder, the ``TableVectorizer``:"
   ]
  },
  {
   "cell_type": "code",
   "execution_count": 6,
   "metadata": {},
   "outputs": [
    {
     "name": "stdout",
     "output_type": "stream",
     "text": [
      "[('numeric', 'passthrough', ['year_first_hired']),\n",
      " ('datetime', DatetimeEncoder(), ['date_first_hired']),\n",
      " ('low_card_cat',\n",
      "  OneHotEncoder(drop='if_binary', handle_unknown='infrequent_if_exist'),\n",
      "  ['gender', 'department', 'department_name', 'assignment_category']),\n",
      " ('high_card_cat',\n",
      "  GapEncoder(n_components=30),\n",
      "  ['division', 'employee_position_title'])]\n"
     ]
    }
   ],
   "source": [
    "from pprint import pprint\n",
    "\n",
    "# Recover the TableVectorizer from the Pipeline\n",
    "tv = pipeline.named_steps[\"tablevectorizer\"]\n",
    "\n",
    "pprint(tv.transformers_)"
   ]
  },
  {
   "cell_type": "markdown",
   "metadata": {},
   "source": [
    "We observe it has automatically assigned an appropriate encoder to corresponding columns:\n",
    "\n",
    "- The ``OneHotEncoder`` for low cardinality string variables, the columns ``'gender'``, ``'department'``, ``'department_name'`` and ``'assignment_category'``."
   ]
  },
  {
   "cell_type": "code",
   "execution_count": 7,
   "metadata": {},
   "outputs": [
    {
     "data": {
      "text/plain": [
       "array(['gender_F', 'gender_M', 'gender_nan', 'department_BOA',\n",
       "       'department_BOE', 'department_CAT', 'department_CCL',\n",
       "       'department_CEC', 'department_CEX', 'department_COR',\n",
       "       'department_CUS', 'department_DEP', 'department_DGS',\n",
       "       'department_DHS', 'department_DLC', 'department_DOT',\n",
       "       'department_DPS', 'department_DTS', 'department_ECM',\n",
       "       'department_FIN', 'department_FRS', 'department_HCA',\n",
       "       'department_HHS', 'department_HRC', 'department_IGR',\n",
       "       'department_LIB', 'department_MPB', 'department_NDA',\n",
       "       'department_OAG', 'department_OCP', 'department_OHR',\n",
       "       'department_OIG', 'department_OLO', 'department_OMB',\n",
       "       'department_PIO', 'department_POL', 'department_PRO',\n",
       "       'department_REC', 'department_SHF', 'department_ZAH',\n",
       "       'department_name_Board of Appeals Department',\n",
       "       'department_name_Board of Elections',\n",
       "       'department_name_Community Engagement Cluster',\n",
       "       'department_name_Community Use of Public Facilities',\n",
       "       'department_name_Correction and Rehabilitation',\n",
       "       \"department_name_County Attorney's Office\",\n",
       "       'department_name_County Council',\n",
       "       'department_name_Department of Environmental Protection',\n",
       "       'department_name_Department of Finance',\n",
       "       'department_name_Department of General Services',\n",
       "       'department_name_Department of Health and Human Services',\n",
       "       'department_name_Department of Housing and Community Affairs',\n",
       "       'department_name_Department of Liquor Control',\n",
       "       'department_name_Department of Permitting Services',\n",
       "       'department_name_Department of Police',\n",
       "       'department_name_Department of Public Libraries',\n",
       "       'department_name_Department of Recreation',\n",
       "       'department_name_Department of Technology Services',\n",
       "       'department_name_Department of Transportation',\n",
       "       'department_name_Ethics Commission',\n",
       "       'department_name_Fire and Rescue Services',\n",
       "       'department_name_Merit System Protection Board Department',\n",
       "       'department_name_Non-Departmental Account',\n",
       "       'department_name_Office of Agriculture',\n",
       "       'department_name_Office of Consumer Protection',\n",
       "       'department_name_Office of Emergency Management and Homeland Security',\n",
       "       'department_name_Office of Human Resources',\n",
       "       'department_name_Office of Human Rights',\n",
       "       'department_name_Office of Intergovernmental Relations Department',\n",
       "       'department_name_Office of Legislative Oversight',\n",
       "       'department_name_Office of Management and Budget',\n",
       "       'department_name_Office of Procurement',\n",
       "       'department_name_Office of Public Information',\n",
       "       'department_name_Office of Zoning and Administrative Hearings',\n",
       "       'department_name_Office of the Inspector General',\n",
       "       'department_name_Offices of the County Executive',\n",
       "       \"department_name_Sheriff's Office\",\n",
       "       'assignment_category_Parttime-Regular'], dtype=object)"
      ]
     },
     "execution_count": 7,
     "metadata": {},
     "output_type": "execute_result"
    }
   ],
   "source": [
    "tv.named_transformers_[\"low_card_cat\"].get_feature_names_out()"
   ]
  },
  {
   "cell_type": "markdown",
   "metadata": {},
   "source": [
    "- The ``GapEncoder`` for high cardinality string columns, ``'employee_position_title'`` and ``'division'``. The |GapEncoder| is a powerful encoder that can handle dirty categorical columns."
   ]
  }
 ],
 "metadata": {
  "kernelspec": {
   "display_name": ".venv",
   "language": "python",
   "name": "python3"
  },
  "language_info": {
   "codemirror_mode": {
    "name": "ipython",
    "version": 3
   },
   "file_extension": ".py",
   "mimetype": "text/x-python",
   "name": "python",
   "nbconvert_exporter": "python",
   "pygments_lexer": "ipython3",
   "version": "3.11.4"
  }
 },
 "nbformat": 4,
 "nbformat_minor": 2
}
